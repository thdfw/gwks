{
 "cells": [
  {
   "cell_type": "code",
   "execution_count": 1,
   "metadata": {},
   "outputs": [
    {
     "ename": "SyntaxError",
     "evalue": "invalid syntax (3537339757.py, line 7)",
     "output_type": "error",
     "traceback": [
      "\u001b[0;36m  Cell \u001b[0;32mIn[1], line 7\u001b[0;36m\u001b[0m\n\u001b[0;31m    for file in os.listdir(os.getcwd()+'/data') if '.csv' in file:\u001b[0m\n\u001b[0m                                                                 ^\u001b[0m\n\u001b[0;31mSyntaxError\u001b[0m\u001b[0;31m:\u001b[0m invalid syntax\n"
     ]
    }
   ],
   "source": [
    "import os\n",
    "import pandas as pd\n",
    "import matplotlib.pyplot as plt\n",
    "\n",
    "adc0, adc1, difference = {}, {}, {}\n",
    "\n",
    "for file in os.listdir(os.getcwd()+'/data'):\n",
    "    if '.csv' in file:\n",
    "        picoID = file.split('.')[0]\n",
    "        df = pd.read_csv('data/' + file)\n",
    "        adc0[picoID] = list(df.adc0)\n",
    "        adc1[picoID] = list(df.adc1)\n",
    "        difference[picoID] = list(df.difference)\n",
    "\n",
    "for key in adc0:\n",
    "    plt.plot(difference[key], label=key)\n",
    "    plt.ylim([0,6])\n",
    "    plt.title('Difference between ADC0 and ADC1')\n",
    "    plt.xlabel('Time')\n",
    "    plt.ylabel('mV')\n",
    "plt.legend()\n",
    "plt.show()\n",
    "\n",
    "for key in adc0:\n",
    "    plt.plot(adc0[key], label=key)\n",
    "    plt.ylim([2970,2990])\n",
    "    plt.title('ADC0')\n",
    "    plt.xlabel('Time')\n",
    "    plt.ylabel('mV')\n",
    "plt.legend()\n",
    "plt.show()\n",
    "\n",
    "for key in adc0:\n",
    "    plt.plot(adc1[key], label=key)\n",
    "    plt.ylim([2970,2990])\n",
    "    plt.title('ADC1')\n",
    "    plt.xlabel('Time')\n",
    "    plt.ylabel('mV')\n",
    "plt.legend()\n",
    "plt.show()"
   ]
  },
  {
   "cell_type": "code",
   "execution_count": null,
   "metadata": {},
   "outputs": [],
   "source": []
  }
 ],
 "metadata": {
  "kernelspec": {
   "display_name": "ada",
   "language": "python",
   "name": "python3"
  },
  "language_info": {
   "codemirror_mode": {
    "name": "ipython",
    "version": 3
   },
   "file_extension": ".py",
   "mimetype": "text/x-python",
   "name": "python",
   "nbconvert_exporter": "python",
   "pygments_lexer": "ipython3",
   "version": "3.12.4"
  }
 },
 "nbformat": 4,
 "nbformat_minor": 2
}
