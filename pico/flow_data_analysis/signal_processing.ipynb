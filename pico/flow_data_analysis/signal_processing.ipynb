{
 "cells": [
  {
   "cell_type": "code",
   "execution_count": 14,
   "metadata": {},
   "outputs": [],
   "source": [
    "import numpy as np\n",
    "from itertools import count\n",
    "import pandas as pd\n",
    "import matplotlib.pyplot as plt\n",
    "from matplotlib.animation import FuncAnimation\n",
    "import csv \n",
    "from scipy import signal\n",
    "from scipy.signal import butter, filtfilt\n",
    "import os\n",
    "import matplotlib as mpl\n",
    "from scipy.interpolate import interp1d\n",
    "import matplotlib.pyplot as plt\n",
    "import numpy as np\n",
    "from ipywidgets import interact, FloatSlider\n",
    "from scipy.signal import freqs\n",
    "\n",
    "mpl.rcParams['figure.dpi']= 150"
   ]
  },
  {
   "cell_type": "code",
   "execution_count": 15,
   "metadata": {},
   "outputs": [],
   "source": [
    "def lowpass_filter(dataframe, f_c, f_s):\n",
    "    \n",
    "    n = 5 # order of the filter\n",
    "    b, a = butter(n, f_c, fs=f_s, btype='low', analog=False)\n",
    "    \n",
    "    return filtfilt(b, a, dataframe)"
   ]
  },
  {
   "cell_type": "code",
   "execution_count": 39,
   "metadata": {},
   "outputs": [
    {
     "data": {
      "text/html": [
       "<div>\n",
       "<style scoped>\n",
       "    .dataframe tbody tr th:only-of-type {\n",
       "        vertical-align: middle;\n",
       "    }\n",
       "\n",
       "    .dataframe tbody tr th {\n",
       "        vertical-align: top;\n",
       "    }\n",
       "\n",
       "    .dataframe thead th {\n",
       "        text-align: right;\n",
       "    }\n",
       "</style>\n",
       "<table border=\"1\" class=\"dataframe\">\n",
       "  <thead>\n",
       "    <tr style=\"text-align: right;\">\n",
       "      <th></th>\n",
       "      <th>time</th>\n",
       "      <th>sensor</th>\n",
       "    </tr>\n",
       "  </thead>\n",
       "  <tbody>\n",
       "    <tr>\n",
       "      <th>220</th>\n",
       "      <td>1609461054270006000</td>\n",
       "      <td>Hall</td>\n",
       "    </tr>\n",
       "    <tr>\n",
       "      <th>221</th>\n",
       "      <td>1609461054274359000</td>\n",
       "      <td>Hall</td>\n",
       "    </tr>\n",
       "    <tr>\n",
       "      <th>222</th>\n",
       "      <td>1609461054278745000</td>\n",
       "      <td>Hall</td>\n",
       "    </tr>\n",
       "    <tr>\n",
       "      <th>223</th>\n",
       "      <td>1609461054283211000</td>\n",
       "      <td>Hall</td>\n",
       "    </tr>\n",
       "    <tr>\n",
       "      <th>224</th>\n",
       "      <td>1609461054287594000</td>\n",
       "      <td>Hall</td>\n",
       "    </tr>\n",
       "  </tbody>\n",
       "</table>\n",
       "</div>"
      ],
      "text/plain": [
       "                    time sensor\n",
       "220  1609461054270006000   Hall\n",
       "221  1609461054274359000   Hall\n",
       "222  1609461054278745000   Hall\n",
       "223  1609461054283211000   Hall\n",
       "224  1609461054287594000   Hall"
      ]
     },
     "metadata": {},
     "output_type": "display_data"
    }
   ],
   "source": [
    "file_path = '/Users/thomas/Documents/gwks/pico/mqtt_files/hall_sensor_2024-06-20_19-02-51.csv'\n",
    "\n",
    "with open(file_path, 'r') as f:\n",
    "        data = [row[0] for row in csv.reader(f)] \n",
    "\n",
    "df = pd.DataFrame({'time': data, 'sensor': ['Hall' for x in data]})\n",
    "df['time'] = df['time'].apply(lambda x: int(x))\n",
    "\n",
    "#df = df[0:100]\n",
    "df = df[220:280]\n",
    "\n",
    "display(df.head())"
   ]
  },
  {
   "cell_type": "code",
   "execution_count": 42,
   "metadata": {},
   "outputs": [
    {
     "name": "stdout",
     "output_type": "stream",
     "text": [
      "You need to keep f_c < f_s/2 (Nyquist frequency)\n"
     ]
    },
    {
     "data": {
      "application/vnd.jupyter.widget-view+json": {
       "model_id": "aada36475e674a848560e273189a3df6",
       "version_major": 2,
       "version_minor": 0
      },
      "text/plain": [
       "interactive(children=(FloatSlider(value=1000.0, description='f_sampling', max=1000.0, min=100.0, step=1.0), Fl…"
      ]
     },
     "metadata": {},
     "output_type": "display_data"
    }
   ],
   "source": [
    "hall_times = list(df[df.sensor=='Hall'].time)\n",
    "\n",
    "for i in range(len(hall_times)-1):\n",
    "    frequency = 1/(hall_times[i+1]-hall_times[i])*1e9\n",
    "    if i==0: \n",
    "        df.loc[df.time>=0, 'hall_freq'] = frequency/2\n",
    "        df.loc[df.time>=0, 'hall_GPM'] = frequency/2 #/7.5 * 0.264172\n",
    "    df.loc[df.time>=hall_times[i], 'hall_freq'] = frequency/2\n",
    "    df.loc[df.time>=hall_times[i], 'hall_GPM'] = frequency/2 #/7.5 * 0.264172\n",
    "\n",
    "timestamps, values = list(df.time), list(df.hall_GPM)\n",
    "\n",
    "def cool_plot(target_fs, fc):\n",
    "\n",
    "    new_timestamps = np.linspace(min(timestamps), max(timestamps), int((max(timestamps) - min(timestamps))/10**9 * target_fs))\n",
    "    interp_func = interp1d(timestamps, values, kind='linear')\n",
    "    interpolated_values = interp_func(new_timestamps)\n",
    "\n",
    "    n = len(interpolated_values)\n",
    "    dt = new_timestamps[1] - new_timestamps[0]  # Time step\n",
    "    freq = np.fft.fftfreq(n, dt)  # Frequency axis\n",
    "    fft_signal = np.fft.fft(interpolated_values)  # Compute FFT\n",
    "\n",
    "    # Take the absolute value to get the magnitude spectrum\n",
    "    magnitude_spectrum = np.abs(fft_signal)\n",
    "\n",
    "    # Plot frequency spectrum\n",
    "    '''\n",
    "    plt.figure(figsize=(10, 4))\n",
    "    plt.plot(freq[:n//2], magnitude_spectrum[:n//2])\n",
    "    plt.title('Frequency Spectrum')\n",
    "    plt.xlabel('Frequency (Hz)')\n",
    "    plt.ylabel('Magnitude')\n",
    "    plt.show()\n",
    "    '''\n",
    "\n",
    "    fig, ax = plt.subplots(1,2, figsize=(14, 6))\n",
    "\n",
    "    ax[0].plot(df.time, df.hall_GPM, color='black', alpha=0.2)\n",
    "    ax[0].plot(new_timestamps, interpolated_values, '-o', alpha=0.5)\n",
    "    ax[0].plot(new_timestamps, lowpass_filter(interpolated_values, fc, target_fs), color='red', alpha=0.9)\n",
    "\n",
    "    point = list(range(300))\n",
    "    vals = [1/np.sqrt(1+(x/fc)**(2*5)) for x in point]\n",
    "    ax[1].plot(point, vals)\n",
    "    ax[1].set_ylim([0,1])\n",
    "    \n",
    "    plt.show()\n",
    "\n",
    "# Define the sliders\n",
    "print(\"You need to keep f_c < f_s/2 (Nyquist frequency)\")\n",
    "cutoff_slider = FloatSlider(min=0.1, max=150, step=0.1, value=300, description='f_cutoff')\n",
    "sampling_slider = FloatSlider(min=100, max=1000, step=1, value=1000, description='f_sampling')\n",
    "\n",
    "# Create the plot\n",
    "interact(cool_plot, fc=cutoff_slider, target_fs=sampling_slider);"
   ]
  },
  {
   "cell_type": "code",
   "execution_count": 41,
   "metadata": {},
   "outputs": [],
   "source": [
    "# Get the plot data\n",
    "def plot_data(alpha, f_c, f_s):\n",
    "\n",
    "    hall_times = list(df[df.sensor=='Hall'].time)\n",
    "\n",
    "    for i in range(len(hall_times)-1):\n",
    "        frequency = 1/(hall_times[i+1]-hall_times[i])*1e9\n",
    "        if i==0: \n",
    "            df.loc[df.time>=0, 'hall_freq'] = frequency/2\n",
    "            df.loc[df.time>=0, 'hall_GPM'] = frequency/2 #/7.5 * 0.264172\n",
    "        df.loc[df.time>=hall_times[i], 'hall_freq'] = frequency/2\n",
    "        df.loc[df.time>=hall_times[i], 'hall_GPM'] = frequency/2 #/7.5 * 0.264172\n",
    "\n",
    "    # Low pass filer\n",
    "    df['hall_GPM_bias_filtered'] = lowpass_filter(df['hall_GPM'], f_c, f_s)\n",
    "\n",
    "    # Exponential weighted average\n",
    "    W = [0]*len(df)\n",
    "    theta = list(df.hall_GPM)\n",
    "    for t in range(len(df)-1):\n",
    "        W[t+1] = alpha*W[t] + (1-alpha)*theta[t+1]\n",
    "    df['hall_GPM_bias_expWA'] = [np.nan]*10 + W[10:]\n",
    "\n",
    "    # Get rid of outliers\n",
    "    upper_limit = 1000\n",
    "    df.loc[df['hall_GPM'] > upper_limit, 'hall_GPM'] = np.nan\n",
    "    df.loc[df['hall_GPM_bias_filtered'] > upper_limit, 'hall_GPM_bias_filtered'] = np.nan\n",
    "    df.loc[df['hall_GPM_bias_expWA'] > upper_limit, 'hall_GPM_bias_expWA'] = np.nan\n",
    "    df['hall_GPM'] = df['hall_GPM'].mask(df['hall_GPM'].isnull()).ffill()\n",
    "    df['hall_GPM_bias_filtered'] = df['hall_GPM_bias_filtered'].mask(df['hall_GPM_bias_filtered'].isnull()).ffill()\n",
    "    df['hall_GPM_bias_expWA'] = df['hall_GPM_bias_expWA'].mask(df['hall_GPM_bias_expWA'].isnull()).ffill()\n",
    "\n",
    "    return list(df.hall_GPM), list(df.hall_GPM_bias_filtered), list(df.hall_GPM_bias_expWA)"
   ]
  },
  {
   "cell_type": "code",
   "execution_count": 35,
   "metadata": {},
   "outputs": [
    {
     "data": {
      "application/vnd.jupyter.widget-view+json": {
       "model_id": "f47893ff8f2a4b358adcfff8d0d8bc48",
       "version_major": 2,
       "version_minor": 0
      },
      "text/plain": [
       "interactive(children=(FloatSlider(value=0.65, description='Alpha', max=0.99, min=0.01, step=0.01), FloatSlider…"
      ]
     },
     "metadata": {},
     "output_type": "display_data"
    }
   ],
   "source": [
    "import matplotlib.pyplot as plt\n",
    "import numpy as np\n",
    "from ipywidgets import interact, FloatSlider\n",
    "\n",
    "def plot_interactive(alpha, f_c, f_s):\n",
    "    \n",
    "    fig, ax = plt.subplots(1,2, figsize=(14, 6), sharey=True)\n",
    "\n",
    "    GPM, GPM_filtered, GPM_expWA = plot_data(alpha, f_c, f_s)\n",
    "    \n",
    "    ax[0].plot(GPM[100:], alpha=0.15, label='Original signal', color='black')\n",
    "    ax[0].plot(GPM_expWA[100:], alpha=0.7, label='Exponential weighted average', color='tab:blue')\n",
    "\n",
    "    ax[1].plot(GPM[100:], alpha=0.15, label='Original signal', color='black')\n",
    "    ax[1].plot(GPM_filtered[100:], alpha=0.7, label='Low pass filter', color='tab:orange')\n",
    "\n",
    "    ax[0].set_ylabel('Frequency')\n",
    "    ax[0].set_xlabel('Time')\n",
    "    ax[0].legend()\n",
    "    ax[1].legend()\n",
    "    #plt.ylim([3,11])\n",
    "    plt.show()\n",
    "\n",
    "# Define the sliders\n",
    "alpha_slider = FloatSlider(min=0.01, max=0.99, step=0.01, value=0.65, description='Alpha')\n",
    "cutoff_slider = FloatSlider(min=0.1, max=0.49, step=0.01, value=0.17, description='f_cutoff')\n",
    "sampling_slider = FloatSlider(min=1, max=20, step=0.1, value=4.10, description='f_sampling')\n",
    "\n",
    "# Create the plot\n",
    "interact(plot_interactive, alpha=alpha_slider, f_c=cutoff_slider, f_s=sampling_slider);"
   ]
  },
  {
   "cell_type": "code",
   "execution_count": null,
   "metadata": {},
   "outputs": [],
   "source": []
  },
  {
   "cell_type": "code",
   "execution_count": null,
   "metadata": {},
   "outputs": [],
   "source": []
  }
 ],
 "metadata": {
  "kernelspec": {
   "display_name": "ada",
   "language": "python",
   "name": "python3"
  },
  "language_info": {
   "codemirror_mode": {
    "name": "ipython",
    "version": 3
   },
   "file_extension": ".py",
   "mimetype": "text/x-python",
   "name": "python",
   "nbconvert_exporter": "python",
   "pygments_lexer": "ipython3",
   "version": "3.11.9"
  }
 },
 "nbformat": 4,
 "nbformat_minor": 2
}
