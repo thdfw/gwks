{
 "cells": [
  {
   "cell_type": "code",
   "execution_count": 1,
   "metadata": {},
   "outputs": [],
   "source": [
    "import numpy as np\n",
    "from itertools import count\n",
    "import pandas as pd\n",
    "import matplotlib.pyplot as plt\n",
    "from matplotlib.animation import FuncAnimation\n",
    "import csv \n",
    "from scipy import signal\n",
    "from scipy.signal import butter, filtfilt\n",
    "import os\n",
    "import matplotlib as mpl\n",
    "from scipy.interpolate import interp1d\n",
    "import matplotlib.pyplot as plt\n",
    "import numpy as np\n",
    "from ipywidgets import interact, FloatSlider\n",
    "from scipy.signal import freqs\n",
    "\n",
    "mpl.rcParams['figure.dpi']= 150"
   ]
  },
  {
   "cell_type": "code",
   "execution_count": 2,
   "metadata": {},
   "outputs": [],
   "source": [
    "def lowpass_filter(dataframe, f_c, f_s):\n",
    "    \n",
    "    n = 5 # order of the filter\n",
    "    b, a = butter(n, f_c, fs=f_s, btype='low', analog=False)\n",
    "    \n",
    "    return filtfilt(b, a, dataframe)"
   ]
  },
  {
   "cell_type": "code",
   "execution_count": 3,
   "metadata": {},
   "outputs": [
    {
     "data": {
      "text/html": [
       "<div>\n",
       "<style scoped>\n",
       "    .dataframe tbody tr th:only-of-type {\n",
       "        vertical-align: middle;\n",
       "    }\n",
       "\n",
       "    .dataframe tbody tr th {\n",
       "        vertical-align: top;\n",
       "    }\n",
       "\n",
       "    .dataframe thead th {\n",
       "        text-align: right;\n",
       "    }\n",
       "</style>\n",
       "<table border=\"1\" class=\"dataframe\">\n",
       "  <thead>\n",
       "    <tr style=\"text-align: right;\">\n",
       "      <th></th>\n",
       "      <th>time</th>\n",
       "      <th>sensor</th>\n",
       "    </tr>\n",
       "  </thead>\n",
       "  <tbody>\n",
       "    <tr>\n",
       "      <th>0</th>\n",
       "      <td>1718375494399105000</td>\n",
       "      <td>Hall</td>\n",
       "    </tr>\n",
       "    <tr>\n",
       "      <th>1</th>\n",
       "      <td>1718375494416037000</td>\n",
       "      <td>Hall</td>\n",
       "    </tr>\n",
       "    <tr>\n",
       "      <th>2</th>\n",
       "      <td>1718375494433124000</td>\n",
       "      <td>Hall</td>\n",
       "    </tr>\n",
       "    <tr>\n",
       "      <th>3</th>\n",
       "      <td>1718375494449987000</td>\n",
       "      <td>Hall</td>\n",
       "    </tr>\n",
       "    <tr>\n",
       "      <th>4</th>\n",
       "      <td>1718375494466875000</td>\n",
       "      <td>Hall</td>\n",
       "    </tr>\n",
       "  </tbody>\n",
       "</table>\n",
       "</div>"
      ],
      "text/plain": [
       "                  time sensor\n",
       "0  1718375494399105000   Hall\n",
       "1  1718375494416037000   Hall\n",
       "2  1718375494433124000   Hall\n",
       "3  1718375494449987000   Hall\n",
       "4  1718375494466875000   Hall"
      ]
     },
     "metadata": {},
     "output_type": "display_data"
    }
   ],
   "source": [
    "file_path = '/Users/thomas/Documents/gwks/pico/flow_data_analysis/flow_data/about_60/about_60_hz3.csv'\n",
    "\n",
    "df = pd.read_csv(file_path).iloc[50:-50]\n",
    "df['time'] = df.index\n",
    "df['sensor'] = df['Timestamp (unix time nano seconds)'].str.replace(' ', '')\n",
    "df = df[['time', 'sensor']]\n",
    "df = df.reset_index(drop=True)\n",
    "\n",
    "df['time'] = df['time'].apply(lambda x: int(x))\n",
    "\n",
    "display(df.head())"
   ]
  },
  {
   "cell_type": "code",
   "execution_count": 4,
   "metadata": {},
   "outputs": [
    {
     "data": {
      "application/vnd.jupyter.widget-view+json": {
       "model_id": "8c67056334d44a7cb334c7d3a3103835",
       "version_major": 2,
       "version_minor": 0
      },
      "text/plain": [
       "interactive(children=(FloatSlider(value=500.0, description='f_sampling', max=500.0, min=1.0, step=1.0), FloatS…"
      ]
     },
     "metadata": {},
     "output_type": "display_data"
    }
   ],
   "source": [
    "hall_times = list(df[df.sensor=='Hall'].time)\n",
    "\n",
    "for i in range(len(hall_times)-1):\n",
    "    frequency = 1/(hall_times[i+1]-hall_times[i])*1e9\n",
    "    if i==0: \n",
    "        df.loc[df.time>=0, 'hall_freq'] = frequency/2\n",
    "        df.loc[df.time>=0, 'hall_GPM'] = frequency/2 #/7.5 * 0.264172\n",
    "    df.loc[df.time>=hall_times[i], 'hall_freq'] = frequency/2\n",
    "    df.loc[df.time>=hall_times[i], 'hall_GPM'] = frequency/2 #/7.5 * 0.264172\n",
    "\n",
    "timestamps, values = list(df.time), list(df.hall_GPM)\n",
    "\n",
    "def cool_plot(target_fs, fc):\n",
    "\n",
    "    new_timestamps = np.linspace(min(timestamps), max(timestamps), int((max(timestamps) - min(timestamps))/10**9 * target_fs))\n",
    "    interp_func = interp1d(timestamps, values, kind='linear')\n",
    "    interpolated_values = interp_func(new_timestamps)\n",
    "\n",
    "    try:\n",
    "        filtered = lowpass_filter(interpolated_values, fc, target_fs)\n",
    "\n",
    "        fig, ax = plt.subplots(1,2, figsize=(14, 6))\n",
    "\n",
    "        ax[0].plot(df.time, df.hall_GPM, color='black', alpha=0.2)\n",
    "        ax[0].plot(new_timestamps, interpolated_values, '-o', alpha=0.2)\n",
    "        ax[0].plot(new_timestamps, filtered, color='red', alpha=0.9)\n",
    "\n",
    "        point = list(range(0, int(max(df.hall_GPM)+5), 1))\n",
    "        vals = [1/np.sqrt(1+(x/fc)**(2*5)) for x in point]\n",
    "        ax[1].plot(point, vals)\n",
    "        ax[1].set_ylim([0,1])\n",
    "        \n",
    "        plt.show()\n",
    "    except: \n",
    "        print(\"ERROR: You need to keep f_c < f_s/2 (Nyquist frequency)\")\n",
    "\n",
    "# Define the sliders\n",
    "cutoff_slider = FloatSlider(min=0.1, max=max(df.hall_GPM)+5, step=0.1, value=300, description='f_cutoff')\n",
    "sampling_slider = FloatSlider(min=1, max=500, step=1, value=1000, description='f_sampling')\n",
    "\n",
    "# Create the plot\n",
    "interact(cool_plot, fc=cutoff_slider, target_fs=sampling_slider);"
   ]
  },
  {
   "cell_type": "code",
   "execution_count": 5,
   "metadata": {},
   "outputs": [
    {
     "data": {
      "text/html": [
       "<div>\n",
       "<style scoped>\n",
       "    .dataframe tbody tr th:only-of-type {\n",
       "        vertical-align: middle;\n",
       "    }\n",
       "\n",
       "    .dataframe tbody tr th {\n",
       "        vertical-align: top;\n",
       "    }\n",
       "\n",
       "    .dataframe thead th {\n",
       "        text-align: right;\n",
       "    }\n",
       "</style>\n",
       "<table border=\"1\" class=\"dataframe\">\n",
       "  <thead>\n",
       "    <tr style=\"text-align: right;\">\n",
       "      <th></th>\n",
       "      <th>time</th>\n",
       "      <th>sensor</th>\n",
       "    </tr>\n",
       "  </thead>\n",
       "  <tbody>\n",
       "    <tr>\n",
       "      <th>0</th>\n",
       "      <td>1718375494399105000</td>\n",
       "      <td>Hall</td>\n",
       "    </tr>\n",
       "    <tr>\n",
       "      <th>1</th>\n",
       "      <td>1718375494416037000</td>\n",
       "      <td>Hall</td>\n",
       "    </tr>\n",
       "    <tr>\n",
       "      <th>2</th>\n",
       "      <td>1718375494433124000</td>\n",
       "      <td>Hall</td>\n",
       "    </tr>\n",
       "    <tr>\n",
       "      <th>3</th>\n",
       "      <td>1718375494449987000</td>\n",
       "      <td>Hall</td>\n",
       "    </tr>\n",
       "    <tr>\n",
       "      <th>4</th>\n",
       "      <td>1718375494466875000</td>\n",
       "      <td>Hall</td>\n",
       "    </tr>\n",
       "  </tbody>\n",
       "</table>\n",
       "</div>"
      ],
      "text/plain": [
       "                  time sensor\n",
       "0  1718375494399105000   Hall\n",
       "1  1718375494416037000   Hall\n",
       "2  1718375494433124000   Hall\n",
       "3  1718375494449987000   Hall\n",
       "4  1718375494466875000   Hall"
      ]
     },
     "metadata": {},
     "output_type": "display_data"
    }
   ],
   "source": [
    "file_path = '/Users/thomas/Documents/gwks/pico/flow_data_analysis/flow_data/about_60/about_60_hz3.csv'\n",
    "\n",
    "df = pd.read_csv(file_path).iloc[50:-50]\n",
    "df['time'] = df.index\n",
    "df['sensor'] = df['Timestamp (unix time nano seconds)'].str.replace(' ', '')\n",
    "df = df[['time', 'sensor']]\n",
    "df = df.reset_index(drop=True)\n",
    "\n",
    "df['time'] = df['time'].apply(lambda x: int(x))\n",
    "\n",
    "#df = df[220:280]\n",
    "\n",
    "display(df.head())"
   ]
  },
  {
   "cell_type": "code",
   "execution_count": 6,
   "metadata": {},
   "outputs": [],
   "source": [
    "# Get the plot data\n",
    "def plot_data(alpha, f_c, f_s):\n",
    "\n",
    "    hall_times = list(df[df.sensor=='Hall'].time)\n",
    "\n",
    "    for i in range(len(hall_times)-1):\n",
    "        frequency = 1/(hall_times[i+1]-hall_times[i])*1e9\n",
    "        if i==0: \n",
    "            df.loc[df.time>=0, 'hall_freq'] = frequency/2\n",
    "            df.loc[df.time>=0, 'hall_GPM'] = frequency/2 #/7.5 * 0.264172\n",
    "        df.loc[df.time>=hall_times[i], 'hall_freq'] = frequency/2\n",
    "        df.loc[df.time>=hall_times[i], 'hall_GPM'] = frequency/2 #/7.5 * 0.264172\n",
    "\n",
    "    # Low pass filer\n",
    "    df['hall_GPM_bias_filtered'] = lowpass_filter(df['hall_GPM'], f_c, f_s)\n",
    "\n",
    "    # Exponential weighted average\n",
    "    W = [0]*len(df)\n",
    "    theta = list(df.hall_GPM)\n",
    "    for t in range(len(df)-1):\n",
    "        W[t+1] = alpha*W[t] + (1-alpha)*theta[t+1]\n",
    "    df['hall_GPM_bias_expWA'] = [np.nan]*10 + W[10:]\n",
    "\n",
    "    # Get rid of outliers\n",
    "    upper_limit = 1000\n",
    "    df.loc[df['hall_GPM'] > upper_limit, 'hall_GPM'] = np.nan\n",
    "    df.loc[df['hall_GPM_bias_filtered'] > upper_limit, 'hall_GPM_bias_filtered'] = np.nan\n",
    "    df.loc[df['hall_GPM_bias_expWA'] > upper_limit, 'hall_GPM_bias_expWA'] = np.nan\n",
    "    df['hall_GPM'] = df['hall_GPM'].mask(df['hall_GPM'].isnull()).ffill()\n",
    "    df['hall_GPM_bias_filtered'] = df['hall_GPM_bias_filtered'].mask(df['hall_GPM_bias_filtered'].isnull()).ffill()\n",
    "    df['hall_GPM_bias_expWA'] = df['hall_GPM_bias_expWA'].mask(df['hall_GPM_bias_expWA'].isnull()).ffill()\n",
    "\n",
    "    return list(df.hall_GPM), list(df.hall_GPM_bias_filtered), list(df.hall_GPM_bias_expWA)"
   ]
  },
  {
   "cell_type": "code",
   "execution_count": 7,
   "metadata": {},
   "outputs": [
    {
     "data": {
      "application/vnd.jupyter.widget-view+json": {
       "model_id": "c42e81e5dc014c489da611445f6b122e",
       "version_major": 2,
       "version_minor": 0
      },
      "text/plain": [
       "interactive(children=(FloatSlider(value=0.93, description='Alpha', max=0.99, min=0.01, step=0.01), FloatSlider…"
      ]
     },
     "metadata": {},
     "output_type": "display_data"
    }
   ],
   "source": [
    "import matplotlib.pyplot as plt\n",
    "import numpy as np\n",
    "from ipywidgets import interact, FloatSlider\n",
    "\n",
    "def plot_interactive(alpha, f_c, f_s):\n",
    "    \n",
    "    fig, ax = plt.subplots(1,2, figsize=(14, 6), sharey=True)\n",
    "\n",
    "    GPM, GPM_filtered, GPM_expWA = plot_data(alpha, f_c, f_s)\n",
    "    \n",
    "    ax[0].plot(GPM[100:], alpha=0.15, label='Original signal', color='black')\n",
    "    ax[0].plot(GPM_expWA[100:], alpha=0.7, label='Exponential weighted average', color='tab:blue')\n",
    "\n",
    "    ax[1].plot(GPM[100:], alpha=0.15, label='Original signal', color='black')\n",
    "    ax[1].plot(GPM_filtered[100:], alpha=0.7, label='Low pass filter', color='tab:orange')\n",
    "\n",
    "    ax[0].set_ylabel('Frequency')\n",
    "    ax[0].set_xlabel('Time')\n",
    "    ax[0].legend()\n",
    "    ax[1].legend()\n",
    "    #plt.ylim([3,11])\n",
    "    plt.show()\n",
    "\n",
    "# Define the sliders\n",
    "alpha_slider = FloatSlider(min=0.01, max=0.99, step=0.01, value=0.93, description='Alpha')\n",
    "cutoff_slider = FloatSlider(min=0.1, max=0.49, step=0.01, value=0.16, description='f_cutoff')\n",
    "sampling_slider = FloatSlider(min=1, max=40, step=0.1, value=20, description='f_sampling')\n",
    "\n",
    "# Create the plot\n",
    "interact(plot_interactive, alpha=alpha_slider, f_c=cutoff_slider, f_s=sampling_slider);"
   ]
  },
  {
   "cell_type": "code",
   "execution_count": null,
   "metadata": {},
   "outputs": [],
   "source": []
  },
  {
   "cell_type": "code",
   "execution_count": null,
   "metadata": {},
   "outputs": [],
   "source": []
  }
 ],
 "metadata": {
  "kernelspec": {
   "display_name": "ada",
   "language": "python",
   "name": "python3"
  },
  "language_info": {
   "codemirror_mode": {
    "name": "ipython",
    "version": 3
   },
   "file_extension": ".py",
   "mimetype": "text/x-python",
   "name": "python",
   "nbconvert_exporter": "python",
   "pygments_lexer": "ipython3",
   "version": "3.11.9"
  }
 },
 "nbformat": 4,
 "nbformat_minor": 2
}
