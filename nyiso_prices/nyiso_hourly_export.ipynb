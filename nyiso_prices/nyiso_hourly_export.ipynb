{
 "cells": [
  {
   "cell_type": "code",
   "execution_count": null,
   "metadata": {},
   "outputs": [],
   "source": [
    "import pandas as pd\n",
    "import numpy as np\n",
    "import psycopg2\n",
    "\n",
    "# Connect to the newyork database\n",
    "conn = psycopg2.connect(\n",
    "    dbname = 'newyork',\n",
    "    user = '',\n",
    "    password = '',\n",
    "    host = 'localhost',\n",
    "    port = '5432'\n",
    ")\n",
    "\n",
    "# Get the top 50 nodes by negative price occurence\n",
    "query = f\"SELECT node, COUNT(*) FROM realtime_lbmp WHERE price < 0 GROUP BY node ORDER BY COUNT(*) DESC LIMIT 50;\"\n",
    "df = pd.read_sql_query(query, conn)\n",
    "best_nodes = list(df.node)\n",
    "\n",
    "# There are 58'943'742 elements in the file, so roughly 80k points per node\n",
    "query = f\"SELECT * FROM realtime_lbmp WHERE node IN %s\"\n",
    "df = pd.read_sql_query(query, conn, params=(tuple(best_nodes),))[['time','node','price']]\n",
    "df = df.sort_values(by='time')\n",
    "conn.close()"
   ]
  },
  {
   "cell_type": "code",
   "execution_count": null,
   "metadata": {},
   "outputs": [],
   "source": [
    "df['time'] = pd.to_datetime(df['time'])\n",
    "df['hour'] = df['time'].dt.strftime('%Y-%m-%d %H')\n",
    "df['price'] = pd.to_numeric(df['price'], errors='coerce')\n",
    "df"
   ]
  },
  {
   "cell_type": "code",
   "execution_count": null,
   "metadata": {},
   "outputs": [],
   "source": [
    "# Find the minimum length of prices\n",
    "min_length = 1e9\n",
    "for node in best_nodes:\n",
    "    df_node = df[df.node==node]\n",
    "    if len(df_node) < min_length:\n",
    "        min_length = len(df_node)\n",
    "print(f'The node with the least points has data for {min_length} time steps.')\n",
    "\n",
    "# Set up as a dict and crop price lists at min_length\n",
    "prices = {}\n",
    "for node in best_nodes:\n",
    "\n",
    "    # Get price by hour\n",
    "    df2 = df[df.node==node][['hour','price']]\n",
    "    hourly_avg = df2.groupby(['hour']).mean()\n",
    "\n",
    "    prices[node] = [round(x,2) for x in list(hourly_avg.price)[:min_length]]\n",
    "\n",
    "for key, value in prices.items():\n",
    "    print(f'{key}: {value[:10]}...')"
   ]
  },
  {
   "cell_type": "code",
   "execution_count": null,
   "metadata": {},
   "outputs": [],
   "source": [
    "# Save the hourly data to CSV\n",
    "df_for_csv = pd.DataFrame(prices)\n",
    "df_for_csv.index = pd.to_datetime(list(hourly_avg.index))\n",
    "df_for_csv.reset_index(inplace=True)\n",
    "df_for_csv.rename(columns={'index': 'Time'}, inplace=True)\n",
    "df_for_csv.to_csv('hourly_data.csv', index=False)"
   ]
  },
  {
   "cell_type": "code",
   "execution_count": null,
   "metadata": {},
   "outputs": [],
   "source": [
    "# Test to see if it worked\n",
    "df = pd.read_csv('hourly_data.csv')\n",
    "df"
   ]
  },
  {
   "cell_type": "code",
   "execution_count": null,
   "metadata": {},
   "outputs": [],
   "source": [
    "import seaborn as sns\n",
    "import matplotlib.pyplot as plt\n",
    "\n",
    "correlation_matrix = pd.DataFrame(prices).corr()\n",
    "\n",
    "plt.figure(figsize=(10, 8))\n",
    "sns.heatmap(correlation_matrix, annot=False, cmap='coolwarm', fmt=\".2f\")\n",
    "plt.title('Correlation matrix')\n",
    "plt.show()"
   ]
  },
  {
   "cell_type": "code",
   "execution_count": null,
   "metadata": {},
   "outputs": [],
   "source": []
  }
 ],
 "metadata": {
  "kernelspec": {
   "display_name": "ada",
   "language": "python",
   "name": "python3"
  },
  "language_info": {
   "codemirror_mode": {
    "name": "ipython",
    "version": 3
   },
   "file_extension": ".py",
   "mimetype": "text/x-python",
   "name": "python",
   "nbconvert_exporter": "python",
   "pygments_lexer": "ipython3",
   "version": "3.10.14"
  }
 },
 "nbformat": 4,
 "nbformat_minor": 2
}
