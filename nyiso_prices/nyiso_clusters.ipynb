{
 "cells": [
  {
   "cell_type": "code",
   "execution_count": null,
   "metadata": {},
   "outputs": [],
   "source": [
    "import pandas as pd\n",
    "import numpy as np\n",
    "import psycopg2\n",
    "\n",
    "conn = psycopg2.connect(\n",
    "    dbname = 'newyork',\n",
    "    user = '',\n",
    "    password = '',\n",
    "    host = 'localhost',\n",
    "    port = '5432'\n",
    ")\n",
    "\n",
    "best_nodes = ['ELLENBURG_WT_PWR', 'CHATEAUG_WT_PWR', 'CLINTON_WT_PWR', 'NORTH___COUNTRY_ESR', 'JERICHO_RISE_WT_PWR', \n",
    "              'CHAT_HIGH_FALL_HYD', 'NEG NORTH_KES_CHATEGAY', 'CHATEAUG_35_KV_LOAD', 'KNTFSRNC_46_KV_46KV_LOAD', \n",
    "              'NEG NORTH___LWR_SARANAC', 'NEG NORTH___ALICE_FALLS', 'NEG NORTH___PLATTSBURG', 'CLINTON___LFGE', \n",
    "              'NEG NORTH_FLCN_SEA', 'PLATSBRG_115KV_PMLD1', 'MARBLE_RIVER_WT_PWR', 'V_XM_10_SYNC_DSASP', \n",
    "              'FALCON___SEABRD_CC1', 'V_CMP_10_SYNC_DSASP', 'FALCON___SEABRD_CC2', 'ALTONA_WT_PWR']\n",
    "\n",
    "# There are 58'943'742 elements in the file, so roughly 80k points per node\n",
    "query = f\"SELECT * FROM realtime_lbmp WHERE node IN %s\"\n",
    "df = pd.read_sql_query(query, conn, params=(tuple(best_nodes),))\n",
    "conn.close()\n",
    "\n",
    "df.head()"
   ]
  },
  {
   "cell_type": "code",
   "execution_count": null,
   "metadata": {},
   "outputs": [],
   "source": [
    "min_length = 1e9\n",
    "for nodei in best_nodes:\n",
    "    df_nodei = df[df.node==nodei]\n",
    "    if len(df_nodei) < min_length:\n",
    "        min_length = len(df_nodei)\n",
    "\n",
    "# Crop to shortest list\n",
    "prices = {}\n",
    "for nodei in best_nodes:\n",
    "    prices[nodei] = list(df[df.node==nodei].price[:min_length])\n",
    "\n",
    "for key, value in prices.items():\n",
    "    print(f'{key}: {value[:10]}...')"
   ]
  },
  {
   "cell_type": "code",
   "execution_count": null,
   "metadata": {},
   "outputs": [],
   "source": [
    "import seaborn as sns\n",
    "import matplotlib.pyplot as plt\n",
    "\n",
    "correlation_matrix = pd.DataFrame(prices).corr()\n",
    "\n",
    "plt.figure(figsize=(10, 8))\n",
    "sns.heatmap(correlation_matrix, annot=True, cmap='coolwarm', fmt=\".1f\")\n",
    "plt.title('Correlation matrix')\n",
    "plt.show()"
   ]
  },
  {
   "cell_type": "code",
   "execution_count": null,
   "metadata": {},
   "outputs": [],
   "source": []
  },
  {
   "cell_type": "code",
   "execution_count": null,
   "metadata": {},
   "outputs": [],
   "source": []
  }
 ],
 "metadata": {
  "kernelspec": {
   "display_name": "ada",
   "language": "python",
   "name": "python3"
  },
  "language_info": {
   "codemirror_mode": {
    "name": "ipython",
    "version": 3
   },
   "file_extension": ".py",
   "mimetype": "text/x-python",
   "name": "python",
   "nbconvert_exporter": "python",
   "pygments_lexer": "ipython3",
   "version": "3.10.14"
  }
 },
 "nbformat": 4,
 "nbformat_minor": 2
}
